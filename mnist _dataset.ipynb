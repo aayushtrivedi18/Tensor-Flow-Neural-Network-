{
  "nbformat": 4,
  "nbformat_minor": 0,
  "metadata": {
    "colab": {
      "name": "Untitled1.ipynb",
      "version": "0.3.2",
      "provenance": [],
      "include_colab_link": true
    },
    "kernelspec": {
      "name": "python3",
      "display_name": "Python 3"
    }
  },
  "cells": [
    {
      "cell_type": "markdown",
      "metadata": {
        "id": "view-in-github",
        "colab_type": "text"
      },
      "source": [
        "<a href=\"https://colab.research.google.com/github/aayushtrivedi18/Tensor-Flow-Neural-Network-/blob/master/mnist%20_dataset.ipynb\" target=\"_parent\"><img src=\"https://colab.research.google.com/assets/colab-badge.svg\" alt=\"Open In Colab\"/></a>"
      ]
    },
    {
      "cell_type": "code",
      "metadata": {
        "id": "Oec3gxjPgXQp",
        "colab_type": "code",
        "colab": {}
      },
      "source": [
        "import  tensorflow as tf"
      ],
      "execution_count": 0,
      "outputs": []
    },
    {
      "cell_type": "code",
      "metadata": {
        "id": "UtP2Ij_NlEXT",
        "colab_type": "code",
        "colab": {
          "base_uri": "https://localhost:8080/",
          "height": 34
        },
        "outputId": "27f9d094-88fe-453c-9999-94d84ed5d068"
      },
      "source": [
        "print(tf.__version__)"
      ],
      "execution_count": 4,
      "outputs": [
        {
          "output_type": "stream",
          "text": [
            "1.13.1\n"
          ],
          "name": "stdout"
        }
      ]
    },
    {
      "cell_type": "code",
      "metadata": {
        "id": "6XTmoYsElbEc",
        "colab_type": "code",
        "colab": {}
      },
      "source": [
        "from tensorflow import keras\n"
      ],
      "execution_count": 0,
      "outputs": []
    },
    {
      "cell_type": "code",
      "metadata": {
        "id": "ijG2ZTgSllzJ",
        "colab_type": "code",
        "colab": {}
      },
      "source": [
        "fashion_mnist=keras.datasets.fashion_mnist"
      ],
      "execution_count": 0,
      "outputs": []
    },
    {
      "cell_type": "code",
      "metadata": {
        "id": "qn76dUXOlx0r",
        "colab_type": "code",
        "colab": {
          "base_uri": "https://localhost:8080/",
          "height": 153
        },
        "outputId": "5744301e-cf1e-423a-ceb7-311bc37482e7"
      },
      "source": [
        "(training_images,training_labels),(test_images,test_labels)=fashion_mnist.load_data()"
      ],
      "execution_count": 9,
      "outputs": [
        {
          "output_type": "stream",
          "text": [
            "Downloading data from https://storage.googleapis.com/tensorflow/tf-keras-datasets/train-labels-idx1-ubyte.gz\n",
            "32768/29515 [=================================] - 0s 0us/step\n",
            "Downloading data from https://storage.googleapis.com/tensorflow/tf-keras-datasets/train-images-idx3-ubyte.gz\n",
            "26427392/26421880 [==============================] - 0s 0us/step\n",
            "Downloading data from https://storage.googleapis.com/tensorflow/tf-keras-datasets/t10k-labels-idx1-ubyte.gz\n",
            "8192/5148 [===============================================] - 0s 0us/step\n",
            "Downloading data from https://storage.googleapis.com/tensorflow/tf-keras-datasets/t10k-images-idx3-ubyte.gz\n",
            "4423680/4422102 [==============================] - 0s 0us/step\n"
          ],
          "name": "stdout"
        }
      ]
    },
    {
      "cell_type": "code",
      "metadata": {
        "id": "s0QyxLdgmiiq",
        "colab_type": "code",
        "colab": {
          "base_uri": "https://localhost:8080/",
          "height": 2666
        },
        "outputId": "113be5ca-0fd2-42c3-dafe-e6a31e0813be"
      },
      "source": [
        "import matplotlib.pyplot as plt\n",
        "plt.imshow(training_images[0])\n",
        "print(training_labels[42])\n",
        "print(training_images[42])"
      ],
      "execution_count": 13,
      "outputs": [
        {
          "output_type": "stream",
          "text": [
            "9\n",
            "[[0.         0.         0.         0.         0.         0.\n",
            "  0.         0.         0.         0.         0.         0.\n",
            "  0.         0.         0.         0.         0.         0.\n",
            "  0.         0.         0.         0.         0.         0.\n",
            "  0.         0.         0.         0.        ]\n",
            " [0.         0.         0.         0.         0.         0.\n",
            "  0.         0.         0.         0.         0.         0.\n",
            "  0.         0.         0.         0.         0.         0.\n",
            "  0.         0.         0.         0.         0.         0.\n",
            "  0.         0.         0.         0.        ]\n",
            " [0.         0.         0.         0.         0.         0.\n",
            "  0.         0.         0.         0.         0.         0.\n",
            "  0.         0.         0.         0.         0.         0.\n",
            "  0.         0.         0.         0.         0.         0.\n",
            "  0.         0.         0.         0.        ]\n",
            " [0.         0.         0.         0.         0.         0.\n",
            "  0.         0.         0.         0.         0.         0.\n",
            "  0.         0.         0.         0.         0.         0.\n",
            "  0.         0.         0.         0.         0.         0.\n",
            "  0.         0.         0.         0.        ]\n",
            " [0.         0.         0.         0.         0.         0.\n",
            "  0.         0.         0.         0.         0.         0.\n",
            "  0.         0.         0.         0.         0.         0.\n",
            "  0.         0.         0.         0.         0.         0.\n",
            "  0.         0.         0.         0.        ]\n",
            " [0.         0.         0.         0.         0.         0.\n",
            "  0.         0.         0.         0.         0.         0.\n",
            "  0.         0.         0.         0.         0.32156863 0.73333333\n",
            "  0.10196078 0.         0.         0.         0.         0.\n",
            "  0.         0.         0.         0.        ]\n",
            " [0.         0.         0.         0.         0.         0.\n",
            "  0.         0.         0.         0.00392157 0.         0.\n",
            "  0.00392157 0.         0.         0.70196078 0.94117647 0.92941176\n",
            "  1.         0.94117647 0.54509804 0.3254902  0.25098039 0.16862745\n",
            "  0.23529412 0.21176471 0.         0.00392157]\n",
            " [0.         0.         0.         0.         0.         0.\n",
            "  0.         0.         0.         0.00392157 0.         0.\n",
            "  0.00392157 0.         0.22745098 0.9372549  0.87058824 0.91764706\n",
            "  0.93333333 0.96470588 0.98823529 0.99607843 1.         0.97254902\n",
            "  1.         0.73333333 0.         0.        ]\n",
            " [0.         0.         0.         0.         0.         0.\n",
            "  0.         0.         0.         0.         0.00784314 0.01176471\n",
            "  0.         0.         0.76078431 0.9372549  0.88627451 0.92941176\n",
            "  0.92156863 0.90980392 0.90196078 0.91764706 0.91764706 0.91372549\n",
            "  0.97647059 0.67058824 0.         0.        ]\n",
            " [0.         0.         0.         0.         0.         0.\n",
            "  0.         0.         0.         0.00392157 0.00392157 0.\n",
            "  0.         0.03921569 1.         0.88627451 0.94901961 0.9372549\n",
            "  0.93333333 0.9372549  0.94117647 0.9372549  0.94901961 0.93333333\n",
            "  0.97254902 0.75294118 0.         0.        ]\n",
            " [0.         0.         0.         0.         0.         0.\n",
            "  0.         0.         0.         0.         0.         0.\n",
            "  0.         0.6745098  0.96078431 0.89803922 0.94117647 0.94509804\n",
            "  0.94117647 0.94509804 0.95294118 0.95294118 0.94509804 0.89019608\n",
            "  0.98039216 0.81960784 0.         0.        ]\n",
            " [0.         0.         0.         0.         0.         0.\n",
            "  0.         0.         0.         0.02352941 0.01960784 0.\n",
            "  0.24313725 1.         0.90196078 0.9254902  0.9372549  0.94509804\n",
            "  0.94901961 0.94509804 0.94901961 0.94901961 0.93333333 0.93333333\n",
            "  0.94901961 0.99215686 0.         0.        ]\n",
            " [0.         0.         0.         0.         0.         0.\n",
            "  0.         0.         0.         0.01176471 0.         0.\n",
            "  1.         0.92156863 0.89411765 0.95686275 0.94509804 0.94509804\n",
            "  0.95686275 0.95294118 0.95294118 0.95686275 0.95294118 0.9372549\n",
            "  0.92156863 1.         0.08627451 0.        ]\n",
            " [0.         0.         0.         0.         0.         0.\n",
            "  0.         0.         0.         0.         0.         0.96470588\n",
            "  0.89411765 0.8627451  0.96078431 0.95294118 0.92941176 0.94509804\n",
            "  0.94901961 0.94901961 0.94901961 0.95294118 0.9372549  0.92941176\n",
            "  0.92156863 0.99215686 0.41568627 0.        ]\n",
            " [0.         0.         0.01176471 0.01568627 0.01568627 0.00784314\n",
            "  0.00392157 0.         0.         0.07058824 0.95294118 0.89411765\n",
            "  0.90588235 0.94509804 0.95294118 0.92941176 0.93333333 0.94901961\n",
            "  0.94509804 0.94117647 0.94117647 0.94117647 0.92156863 0.92941176\n",
            "  0.9254902  0.96470588 0.91764706 0.        ]\n",
            " [0.00392157 0.         0.         0.         0.         0.\n",
            "  0.         0.         0.08627451 1.         0.93333333 0.89019608\n",
            "  0.93333333 0.9372549  0.92941176 0.94509804 0.94509804 0.92941176\n",
            "  0.9254902  0.93333333 0.9372549  0.9372549  0.9372549  0.9372549\n",
            "  0.9372549  0.92941176 1.         0.        ]\n",
            " [0.         0.         0.         0.         0.         0.09803922\n",
            "  0.3254902  0.65882353 1.         0.88235294 0.88235294 0.92156863\n",
            "  0.89411765 0.90196078 0.89019608 0.88235294 0.89019608 0.90588235\n",
            "  0.90980392 0.92941176 0.94117647 0.9254902  0.93333333 0.9372549\n",
            "  0.9372549  0.92156863 0.98431373 0.24313725]\n",
            " [0.         0.64705882 0.88235294 0.8627451  0.87843137 1.\n",
            "  1.         0.91372549 0.89803922 0.8745098  0.89019608 0.89411765\n",
            "  0.90588235 0.90980392 0.92156863 0.92941176 0.91372549 0.90196078\n",
            "  0.89411765 0.90196078 0.91372549 0.90980392 0.92156863 0.91372549\n",
            "  0.91764706 0.92156863 1.         0.22745098]\n",
            " [0.20392157 0.98431373 0.86666667 0.88627451 0.89019608 0.88235294\n",
            "  0.88235294 0.88235294 0.88627451 0.88627451 0.88235294 0.89019608\n",
            "  0.90588235 0.89803922 0.90980392 0.9372549  0.96078431 0.98039216\n",
            "  0.98431373 0.98823529 0.99607843 0.99607843 0.98823529 0.99607843\n",
            "  0.98823529 0.92156863 1.         0.        ]\n",
            " [0.12156863 0.81568627 0.90196078 0.91372549 0.91372549 0.92941176\n",
            "  0.9254902  0.9254902  0.94509804 0.92156863 0.94509804 0.96862745\n",
            "  0.98431373 0.99607843 0.94901961 0.9254902  0.91372549 0.89019608\n",
            "  0.85882353 0.79215686 0.75686275 0.74117647 0.72941176 0.70980392\n",
            "  0.67058824 0.64705882 0.74509804 0.16470588]\n",
            " [0.30196078 0.78039216 0.6745098  0.7372549  0.78039216 0.79215686\n",
            "  0.85490196 0.85882353 0.8627451  0.89803922 0.91764706 0.87058824\n",
            "  0.83529412 0.81960784 0.81176471 0.82352941 0.79607843 0.72156863\n",
            "  0.59607843 0.67058824 0.64705882 0.63529412 0.63529412 0.65490196\n",
            "  0.65882353 0.61568627 0.75294118 0.30588235]\n",
            " [0.         0.17647059 0.39607843 0.54901961 0.62352941 0.68235294\n",
            "  0.71372549 0.72941176 0.7254902  0.7372549  0.76470588 0.77254902\n",
            "  0.7372549  0.68627451 0.52156863 0.2745098  0.0745098  0.\n",
            "  0.         0.81960784 0.90588235 0.85490196 0.87058824 0.87843137\n",
            "  0.89019608 0.85098039 0.89803922 0.36470588]\n",
            " [0.         0.         0.         0.         0.         0.\n",
            "  0.00784314 0.09411765 0.14509804 0.17647059 0.1254902  0.07058824\n",
            "  0.04313725 0.         0.         0.         0.         0.\n",
            "  0.         0.28235294 0.2        0.20784314 0.14509804 0.13333333\n",
            "  0.11372549 0.12156863 0.01960784 0.        ]\n",
            " [0.         0.         0.         0.         0.         0.\n",
            "  0.         0.         0.         0.         0.         0.\n",
            "  0.         0.         0.         0.         0.         0.\n",
            "  0.         0.         0.         0.         0.         0.\n",
            "  0.         0.         0.         0.        ]\n",
            " [0.         0.         0.         0.         0.         0.\n",
            "  0.         0.         0.         0.         0.         0.\n",
            "  0.         0.         0.         0.         0.         0.\n",
            "  0.         0.         0.         0.         0.         0.\n",
            "  0.         0.         0.         0.        ]\n",
            " [0.         0.         0.         0.         0.         0.\n",
            "  0.         0.         0.         0.         0.         0.\n",
            "  0.         0.         0.         0.         0.         0.\n",
            "  0.         0.         0.         0.         0.         0.\n",
            "  0.         0.         0.         0.        ]\n",
            " [0.         0.         0.         0.         0.         0.\n",
            "  0.         0.         0.         0.         0.         0.\n",
            "  0.         0.         0.         0.         0.         0.\n",
            "  0.         0.         0.         0.         0.         0.\n",
            "  0.         0.         0.         0.        ]\n",
            " [0.         0.         0.         0.         0.         0.\n",
            "  0.         0.         0.         0.         0.         0.\n",
            "  0.         0.         0.         0.         0.         0.\n",
            "  0.         0.         0.         0.         0.         0.\n",
            "  0.         0.         0.         0.        ]]\n"
          ],
          "name": "stdout"
        },
        {
          "output_type": "display_data",
          "data": {
            "image/png": "[encoded data removed]",
            "text/plain": [
              "<Figure size 432x288 with 1 Axes>"
            ]
          },
          "metadata": {
            "tags": []
          }
        }
      ]
    },
    {
      "cell_type": "code",
      "metadata": {
        "id": "4M623FLRnZGq",
        "colab_type": "code",
        "colab": {}
      },
      "source": [
        "training_images=training_images/255\n",
        "test_images=test_images/255"
      ],
      "execution_count": 0,
      "outputs": []
    },
    {
      "cell_type": "code",
      "metadata": {
        "id": "QXcYXwChns-Q",
        "colab_type": "code",
        "colab": {
          "base_uri": "https://localhost:8080/",
          "height": 88
        },
        "outputId": "72368795-2b82-4e54-9ddd-c50ff3c6e432"
      },
      "source": [
        "model=tf.keras.models.Sequential([tf.keras.layers.Flatten(input_shape=(28,28))\n",
        "                       ,tf.keras.layers.Dense(128,activation=tf.nn.relu),\n",
        "                       tf.keras.layers.Dense(10,activation=tf.nn.softmax)])"
      ],
      "execution_count": 16,
      "outputs": [
        {
          "output_type": "stream",
          "text": [
            "WARNING:tensorflow:From /usr/local/lib/python3.6/dist-packages/tensorflow/python/ops/resource_variable_ops.py:435: colocate_with (from tensorflow.python.framework.ops) is deprecated and will be removed in a future version.\n",
            "Instructions for updating:\n",
            "Colocations handled automatically by placer.\n"
          ],
          "name": "stdout"
        }
      ]
    },
    {
      "cell_type": "code",
      "metadata": {
        "id": "2remol_lpmy7",
        "colab_type": "code",
        "colab": {}
      },
      "source": [
        "model.compile(optimizer=tf.train.AdamOptimizer(),loss='sparse_categorical_crossentropy')"
      ],
      "execution_count": 0,
      "outputs": []
    },
    {
      "cell_type": "code",
      "metadata": {
        "id": "UIGaxIMys9vs",
        "colab_type": "code",
        "colab": {
          "base_uri": "https://localhost:8080/",
          "height": 204
        },
        "outputId": "b21dcd1a-9d6e-4c11-b3d8-b3d80504d6d9"
      },
      "source": [
        "model.fit(training_images,training_labels,epochs=5)"
      ],
      "execution_count": 20,
      "outputs": [
        {
          "output_type": "stream",
          "text": [
            "Epoch 1/5\n",
            "60000/60000 [==============================] - 5s 88us/sample - loss: 0.4949\n",
            "Epoch 2/5\n",
            "60000/60000 [==============================] - 5s 79us/sample - loss: 0.3746\n",
            "Epoch 3/5\n",
            "60000/60000 [==============================] - 5s 80us/sample - loss: 0.3363\n",
            "Epoch 4/5\n",
            "60000/60000 [==============================] - 5s 80us/sample - loss: 0.3119\n",
            "Epoch 5/5\n",
            "60000/60000 [==============================] - 5s 79us/sample - loss: 0.2917\n"
          ],
          "name": "stdout"
        },
        {
          "output_type": "execute_result",
          "data": {
            "text/plain": [
              "<tensorflow.python.keras.callbacks.History at 0x7f6ee4df8358>"
            ]
          },
          "metadata": {
            "tags": []
          },
          "execution_count": 20
        }
      ]
    },
    {
      "cell_type": "code",
      "metadata": {
        "id": "c4Cj1wS4tW1c",
        "colab_type": "code",
        "colab": {
          "base_uri": "https://localhost:8080/",
          "height": 51
        },
        "outputId": "333a86fc-29b2-4cc6-dbc5-8c309902ed3f"
      },
      "source": [
        "model.evaluate(test_images,test_labels)"
      ],
      "execution_count": 21,
      "outputs": [
        {
          "output_type": "stream",
          "text": [
            "10000/10000 [==============================] - 1s 53us/sample - loss: 0.3554\n"
          ],
          "name": "stdout"
        },
        {
          "output_type": "execute_result",
          "data": {
            "text/plain": [
              "0.35537194719314574"
            ]
          },
          "metadata": {
            "tags": []
          },
          "execution_count": 21
        }
      ]
    }
  ]
}